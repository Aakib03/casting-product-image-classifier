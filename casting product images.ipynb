{
 "cells": [
  {
   "cell_type": "code",
   "execution_count": 14,
   "metadata": {},
   "outputs": [
    {
     "name": "stdout",
     "output_type": "stream",
     "text": [
      "Requirement already satisfied: split-folders in ./AI/lib/python3.8/site-packages (0.4.3)\r\n"
     ]
    }
   ],
   "source": [
    "import sys\n",
    "from matplotlib import pyplot\n",
    "from keras.models import Sequential\n",
    "from keras.layers import Conv2D\n",
    "from keras.layers import MaxPooling2D\n",
    "from keras.layers import Dense\n",
    "from keras.layers import Flatten\n",
    "from keras.layers import Dropout\n",
    "from keras.optimizers import SGD\n",
    "from keras.preprocessing.image import ImageDataGenerator\n",
    "from keras.optimizers import RMSprop, Adam\n",
    "from keras.callbacks import ModelCheckpoint, EarlyStopping\n",
    "import matplotlib.pyplot as plt\n",
    "from sklearn.metrics import classification_report, confusion_matrix\n",
    "import os\n",
    "!pip install split-folders\n",
    "import splitfolders\n",
    "from PIL import Image as img\n",
    "import cv2 \n",
    "import numpy as np"
   ]
  },
  {
   "cell_type": "code",
   "execution_count": 2,
   "metadata": {},
   "outputs": [],
   "source": [
    "img = cv2.imread('/home/aakib/Downloads/casting/archive/casting_512x512/casting_512x512/def_front') "
   ]
  },
  {
   "cell_type": "code",
   "execution_count": 3,
   "metadata": {},
   "outputs": [],
   "source": [
    "def summarize_diagnostics(history):\n",
    "    # plot loss\n",
    "    plt.style.use(\"ggplot\")\n",
    "    plt.figure()\n",
    "    N = epochs\n",
    "    plt.plot(np.arange(0, N), history.history[\"loss\"], label=\"train_loss\")\n",
    "    plt.plot(np.arange(0, N), history.history[\"val_loss\"], label=\"val_loss\")\n",
    "    plt.title(\"Loss\")\n",
    "    plt.xlabel(\"Epoch #\")\n",
    "    plt.ylabel(\"Loss\")\n",
    "    plt.legend(loc=\"upper left\")\n",
    "    # plot accuracy\n",
    "    plt.style.use(\"ggplot\")\n",
    "    plt.figure()\n",
    "    N = epochs\n",
    "    plt.plot(np.arange(0, N), history.history[\"accuracy\"], label=\"accuracy\")\n",
    "    plt.plot(np.arange(0, N), history.history[\"val_accuracy\"], label=\"val_accuracy\")\n",
    "    plt.title(\"Accuracy\")\n",
    "    plt.xlabel(\"Epoch #\")\n",
    "    plt.ylabel(\"Accuracy\")\n",
    "    plt.legend(loc=\"upper left\")\n",
    "    # save plot to file"
   ]
  },
  {
   "cell_type": "code",
   "execution_count": 4,
   "metadata": {},
   "outputs": [
    {
     "name": "stdout",
     "output_type": "stream",
     "text": [
      "Class ok_front train count: 2875\n",
      "Class def_front train count: 3758\n",
      "Class def_front test count: 262\n",
      "Class ok_front test count: 453\n"
     ]
    }
   ],
   "source": [
    "print(\"Class ok_front train count:\",len(os.listdir('/home/aakib/Downloads/casting/archive/casting_data/casting_data/train/ok_front')))\n",
    "print(\"Class def_front train count:\",len(os.listdir('/home/aakib/Downloads/casting/archive/casting_data/casting_data/train/def_front')) )\n",
    "\n",
    "print(\"Class def_front test count:\",len(os.listdir('/home/aakib/Downloads/casting/archive/casting_data/casting_data/test/ok_front')))\n",
    "print(\"Class ok_front test count:\",len(os.listdir('/home/aakib/Downloads/casting/archive/casting_data/casting_data/test/def_front')))"
   ]
  },
  {
   "cell_type": "code",
   "execution_count": 5,
   "metadata": {},
   "outputs": [
    {
     "name": "stderr",
     "output_type": "stream",
     "text": [
      "Copying files: 6633 files [01:44, 63.34 files/s] \n"
     ]
    }
   ],
   "source": [
    "splitfolders.ratio(\"/home/aakib/Downloads/casting/archive/casting_data/casting_data/train/\", output=\"output\", seed=1337, ratio=(.9, .1), group_prefix=None)"
   ]
  },
  {
   "cell_type": "code",
   "execution_count": 6,
   "metadata": {},
   "outputs": [
    {
     "name": "stdout",
     "output_type": "stream",
     "text": [
      "Class ok_front train count: 2587\n",
      "Class def_front train count: 3382\n",
      "Class ok_front train count: 288\n",
      "Class def_front train count: 376\n"
     ]
    }
   ],
   "source": [
    "print(\"Class ok_front train count:\",len(os.listdir('./output/train/ok_front')))\n",
    "print(\"Class def_front train count:\",len(os.listdir('./output/train/def_front')) )\n",
    "\n",
    "print(\"Class ok_front train count:\",len(os.listdir('./output/val/ok_front')))\n",
    "print(\"Class def_front train count:\",len(os.listdir('./output/val/def_front')) )"
   ]
  },
  {
   "cell_type": "code",
   "execution_count": 7,
   "metadata": {},
   "outputs": [],
   "source": [
    "IMAGE_DIMS = (224, 224, 3)\n",
    "train_data_dir = './output/train/'\n",
    "validation_data_dir = './output/val/'\n",
    "batch_size=64"
   ]
  },
  {
   "cell_type": "code",
   "execution_count": 8,
   "metadata": {},
   "outputs": [
    {
     "name": "stdout",
     "output_type": "stream",
     "text": [
      "Found 5969 images belonging to 2 classes.\n",
      "Found 664 images belonging to 2 classes.\n"
     ]
    }
   ],
   "source": [
    "train_datagen = ImageDataGenerator(rescale=1.0/255.0)\n",
    "validation_datagen = ImageDataGenerator(rescale=1.0/255.0)\n",
    "\n",
    "train_generator = train_datagen.flow_from_directory(\n",
    "        train_data_dir,\n",
    "        target_size=(IMAGE_DIMS[0], IMAGE_DIMS[1]),\n",
    "        batch_size=batch_size,\n",
    "        class_mode='categorical',\n",
    "        shuffle=True)\n",
    "validation_generator = validation_datagen.flow_from_directory(\n",
    "        validation_data_dir,\n",
    "        target_size=(IMAGE_DIMS[0], IMAGE_DIMS[1]),\n",
    "        batch_size=batch_size,\n",
    "        class_mode='categorical',\n",
    "        shuffle=True)\n"
   ]
  },
  {
   "cell_type": "code",
   "execution_count": 9,
   "metadata": {},
   "outputs": [],
   "source": [
    "nb_train_samples =5969 \n",
    "nb_validation_samples = 664"
   ]
  },
  {
   "cell_type": "code",
   "execution_count": 10,
   "metadata": {},
   "outputs": [],
   "source": [
    "def define_model(h,w):\n",
    "    model = Sequential()\n",
    "    model.add(Conv2D(32, (3, 3), activation='relu', kernel_initializer='he_uniform',\n",
    "    padding='same', input_shape=(h,w, 3)))\n",
    "    model.add(MaxPooling2D((2, 2)))\n",
    "    model.add(Dropout(0.2))\n",
    "    model.add(Conv2D(64, (3, 3), activation='relu', kernel_initializer='he_uniform',\n",
    "    padding='same'))\n",
    "    model.add(MaxPooling2D((2, 2)))\n",
    "    model.add(Dropout(0.2))\n",
    "    model.add(Conv2D(128, (3, 3), activation='relu', kernel_initializer='he_uniform',\n",
    "    padding='same'))\n",
    "    model.add(MaxPooling2D((2, 2)))\n",
    "    model.add(Dropout(0.2))\n",
    "    model.add(Conv2D(128, (3, 3), activation='relu', kernel_initializer='he_uniform',\n",
    "    padding='same'))\n",
    "    model.add(MaxPooling2D((2, 2)))\n",
    "    model.add(Dropout(0.2))\n",
    "    model.add(Flatten())\n",
    "    model.add(Dense(128, activation='relu', kernel_initializer='he_uniform'))\n",
    "    model.add(Dense(2, activation='softmax'))\n",
    "    return model"
   ]
  },
  {
   "cell_type": "code",
   "execution_count": 12,
   "metadata": {},
   "outputs": [
    {
     "name": "stdout",
     "output_type": "stream",
     "text": [
      "WARNING:tensorflow:From <ipython-input-12-83cc1d2f6938>:7: Model.fit_generator (from tensorflow.python.keras.engine.training) is deprecated and will be removed in a future version.\n",
      "Instructions for updating:\n",
      "Please use Model.fit, which supports generators.\n",
      "Epoch 1/8\n",
      "93/93 [==============================] - ETA: 0s - loss: 1.3256 - accuracy: 0.5536\n",
      "Epoch 00001: loss improved from inf to 1.32559, saving model to ./weights.h5\n",
      "93/93 [==============================] - 278s 3s/step - loss: 1.3256 - accuracy: 0.5536 - val_loss: 0.6646 - val_accuracy: 0.7125\n",
      "Epoch 2/8\n",
      "93/93 [==============================] - ETA: 0s - loss: 0.6316 - accuracy: 0.6484\n",
      "Epoch 00002: loss improved from 1.32559 to 0.63164, saving model to ./weights.h5\n",
      "93/93 [==============================] - 281s 3s/step - loss: 0.6316 - accuracy: 0.6484 - val_loss: 0.6407 - val_accuracy: 0.6000\n",
      "Epoch 3/8\n",
      "93/93 [==============================] - ETA: 0s - loss: 0.5027 - accuracy: 0.7526\n",
      "Epoch 00003: loss improved from 0.63164 to 0.50273, saving model to ./weights.h5\n",
      "93/93 [==============================] - 284s 3s/step - loss: 0.5027 - accuracy: 0.7526 - val_loss: 0.4676 - val_accuracy: 0.8203\n",
      "Epoch 4/8\n",
      "93/93 [==============================] - ETA: 0s - loss: 0.4372 - accuracy: 0.7927\n",
      "Epoch 00004: loss improved from 0.50273 to 0.43725, saving model to ./weights.h5\n",
      "93/93 [==============================] - 277s 3s/step - loss: 0.4372 - accuracy: 0.7927 - val_loss: 0.4329 - val_accuracy: 0.7922\n",
      "Epoch 5/8\n",
      "93/93 [==============================] - ETA: 0s - loss: 0.3163 - accuracy: 0.8571\n",
      "Epoch 00005: loss improved from 0.43725 to 0.31635, saving model to ./weights.h5\n",
      "93/93 [==============================] - 266s 3s/step - loss: 0.3163 - accuracy: 0.8571 - val_loss: 0.2970 - val_accuracy: 0.8766\n",
      "Epoch 6/8\n",
      "93/93 [==============================] - ETA: 0s - loss: 0.2724 - accuracy: 0.8798\n",
      "Epoch 00006: loss improved from 0.31635 to 0.27237, saving model to ./weights.h5\n",
      "93/93 [==============================] - 302s 3s/step - loss: 0.2724 - accuracy: 0.8798 - val_loss: 0.3562 - val_accuracy: 0.8359\n",
      "Epoch 7/8\n",
      "93/93 [==============================] - ETA: 0s - loss: 0.1917 - accuracy: 0.9207\n",
      "Epoch 00007: loss improved from 0.27237 to 0.19166, saving model to ./weights.h5\n",
      "93/93 [==============================] - 281s 3s/step - loss: 0.1917 - accuracy: 0.9207 - val_loss: 0.2627 - val_accuracy: 0.8984\n",
      "Epoch 8/8\n",
      "93/93 [==============================] - ETA: 0s - loss: 0.1494 - accuracy: 0.9421\n",
      "Epoch 00008: loss improved from 0.19166 to 0.14940, saving model to ./weights.h5\n",
      "93/93 [==============================] - 274s 3s/step - loss: 0.1494 - accuracy: 0.9421 - val_loss: 0.3308 - val_accuracy: 0.8125\n"
     ]
    }
   ],
   "source": [
    "model = define_model(IMAGE_DIMS[0],IMAGE_DIMS[1])\n",
    "model.compile(loss = 'categorical_crossentropy',optimizer = 'adam',metrics = ['accuracy'])\n",
    "epochs = 8\n",
    "batch_size = 64\n",
    "checkpoint = ModelCheckpoint(\"./weights.h5\",monitor=\"loss\",mode=\"min\",save_best_only = True,verbose=1)\n",
    "callbacks = [checkpoint]\n",
    "history = model.fit_generator(train_generator,\n",
    "    steps_per_epoch = nb_train_samples // batch_size,\n",
    "    epochs = epochs,\n",
    "    callbacks = callbacks,\n",
    "    validation_data = validation_generator,\n",
    "    validation_steps = nb_validation_samples // batch_size)"
   ]
  },
  {
   "cell_type": "code",
   "execution_count": 15,
   "metadata": {
    "scrolled": true
   },
   "outputs": [
    {
     "data": {
      "image/png": "[encoded data removed]",
      "text/plain": [
       "<Figure size 432x288 with 1 Axes>"
      ]
     },
     "metadata": {},
     "output_type": "display_data"
    },
    {
     "data": {
      "image/png": "[encoded data removed]",
      "text/plain": [
       "<Figure size 432x288 with 1 Axes>"
      ]
     },
     "metadata": {},
     "output_type": "display_data"
    }
   ],
   "source": [
    "summarize_diagnostics(history)\n"
   ]
  },
  {
   "cell_type": "code",
   "execution_count": 19,
   "metadata": {},
   "outputs": [
    {
     "name": "stdout",
     "output_type": "stream",
     "text": [
      "Found 715 images belonging to 2 classes.\n"
     ]
    }
   ],
   "source": [
    "test_datagen = ImageDataGenerator(rescale=1.0/255.0)\n",
    "test_data_dir= '/home/aakib/Downloads/casting/archive/casting_data/casting_data/test/'\n",
    "test_generator = test_datagen.flow_from_directory(\n",
    "        test_data_dir,\n",
    "        target_size=(IMAGE_DIMS[0], IMAGE_DIMS[1]),\n",
    "        batch_size=batch_size,\n",
    "        class_mode='categorical',\n",
    "        shuffle=False)"
   ]
  },
  {
   "cell_type": "code",
   "execution_count": 20,
   "metadata": {},
   "outputs": [
    {
     "name": "stdout",
     "output_type": "stream",
     "text": [
      "WARNING:tensorflow:From <ipython-input-20-4994461f02fe>:5: Model.predict_generator (from tensorflow.python.keras.engine.training) is deprecated and will be removed in a future version.\n",
      "Instructions for updating:\n",
      "Please use Model.predict, which supports generators.\n"
     ]
    }
   ],
   "source": [
    "model.load_weights(\"weights.h5\")\n",
    "class_labels = test_generator.class_indices\n",
    "class_labels = {v: k for k, v in class_labels.items()}\n",
    "classes = list(class_labels.values())\n",
    "Y_pred = model.predict_generator(test_generator)\n",
    "y_pred = np.argmax(Y_pred, axis=1)\n",
    " "
   ]
  },
  {
   "cell_type": "code",
   "execution_count": 21,
   "metadata": {},
   "outputs": [
    {
     "name": "stdout",
     "output_type": "stream",
     "text": [
      "Confusion Matrix\n",
      "[[450   3]\n",
      " [ 98 164]]\n",
      "Classification Report\n",
      "              precision    recall  f1-score   support\n",
      "\n",
      "   def_front       0.82      0.99      0.90       453\n",
      "    ok_front       0.98      0.63      0.76       262\n",
      "\n",
      "    accuracy                           0.86       715\n",
      "   macro avg       0.90      0.81      0.83       715\n",
      "weighted avg       0.88      0.86      0.85       715\n",
      "\n"
     ]
    },
    {
     "data": {
      "image/png": "[encoded data removed]",
      "text/plain": [
       "<Figure size 576x576 with 2 Axes>"
      ]
     },
     "metadata": {},
     "output_type": "display_data"
    }
   ],
   "source": [
    "print('Confusion Matrix')\n",
    "print(confusion_matrix(test_generator.classes, y_pred))\n",
    "print('Classification Report')\n",
    "target_names = list(class_labels.values())\n",
    "print(classification_report(test_generator.classes, y_pred, target_names=target_names))\n",
    "\n",
    "plt.figure(figsize=(8,8))\n",
    "cnf_matrix = confusion_matrix(test_generator.classes, y_pred)\n",
    "\n",
    "plt.imshow(cnf_matrix, interpolation='nearest')\n",
    "plt.colorbar()\n",
    "tick_marks = np.arange(len(classes))\n",
    "_ = plt.xticks(tick_marks, classes, rotation=90)\n",
    "_ = plt.yticks(tick_marks, classes)"
   ]
  }
 ],
 "metadata": {
  "kernelspec": {
   "display_name": "Python 3",
   "language": "python",
   "name": "python3"
  },
  "language_info": {
   "codemirror_mode": {
    "name": "ipython",
    "version": 3
   },
   "file_extension": ".py",
   "mimetype": "text/x-python",
   "name": "python",
   "nbconvert_exporter": "python",
   "pygments_lexer": "ipython3",
   "version": "3.8.5"
  }
 },
 "nbformat": 4,
 "nbformat_minor": 4
}
